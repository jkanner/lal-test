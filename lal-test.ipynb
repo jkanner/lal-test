{
 "cells": [
  {
   "cell_type": "code",
   "execution_count": null,
   "metadata": {
    "collapsed": false
   },
   "outputs": [],
   "source": [
    "import lal\n",
    "import pycbc\n",
    "import gwpy\n",
    "%matplotlib inline\n",
    "%config InlineBackend.figure_format = 'retina'\n",
    "from gwpy.timeseries import TimeSeries\n",
    "from gwopensci.datasets import event_gps"
   ]
  },
  {
   "cell_type": "code",
   "execution_count": null,
   "metadata": {
    "collapsed": true
   },
   "outputs": [],
   "source": [
    "gps = event_gps('GW170817')\n",
    "segment = (int(gps) - 5, int(gps) + 5)\n",
    "hdata = TimeSeries.fetch_open_data('H1', *segment, verbose=True, cache=True, tag='CLN')\n",
    "print(data)\n",
    "plot = hdata.plot()"
   ]
  }
 ],
 "metadata": {
  "kernelspec": {
   "display_name": "Python 2",
   "language": "python",
   "name": "python2"
  },
  "language_info": {
   "codemirror_mode": {
    "name": "ipython",
    "version": 2
   },
   "file_extension": ".py",
   "mimetype": "text/x-python",
   "name": "python",
   "nbconvert_exporter": "python",
   "pygments_lexer": "ipython2",
   "version": "2.7.12"
  }
 },
 "nbformat": 4,
 "nbformat_minor": 0
}
